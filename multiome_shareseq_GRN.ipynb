{
 "cells": [
  {
   "cell_type": "markdown",
   "metadata": {},
   "source": [
    "# Multimodal gene regulatory network"
   ]
  },
  {
   "cell_type": "markdown",
   "metadata": {},
   "source": [
    "Here we will use dual-omics SHARE-seq dataset, more specicially the dataset from figure4 in [SHARE-seq study](https://www.sciencedirect.com/science/article/abs/pii/S0092867420312538), \"multiome_ma2020_fig4\" as an example to illustrate how SIMBA performs gene regulatory network (GRN) analysis"
   ]
  },
  {
   "cell_type": "code",
   "execution_count": 1,
   "metadata": {},
   "outputs": [
    {
     "data": {
      "text/plain": [
       "'1.0'"
      ]
     },
     "execution_count": 1,
     "metadata": {},
     "output_type": "execute_result"
    }
   ],
   "source": [
    "import os\n",
    "import numpy as np\n",
    "import pandas as pd\n",
    "import simba as si\n",
    "si.__version__"
   ]
  },
  {
   "cell_type": "code",
   "execution_count": 2,
   "metadata": {},
   "outputs": [
    {
     "name": "stdout",
     "output_type": "stream",
     "text": [
      "Saving results in: result_multiome_shareseq\n"
     ]
    }
   ],
   "source": [
    "workdir = 'result_multiome_shareseq'\n",
    "si.settings.set_workdir(workdir)"
   ]
  },
  {
   "cell_type": "code",
   "execution_count": 3,
   "metadata": {},
   "outputs": [],
   "source": [
    "si.settings.set_figure_params(dpi=80,\n",
    "                              style='white',\n",
    "                              fig_size=[5,5],\n",
    "                              rc={'image.cmap': 'viridis'})"
   ]
  },
  {
   "cell_type": "code",
   "execution_count": 4,
   "metadata": {},
   "outputs": [],
   "source": [
    "# to make plots prettier\n",
    "from IPython.display import set_matplotlib_formats\n",
    "set_matplotlib_formats('retina')"
   ]
  },
  {
   "cell_type": "code",
   "execution_count": null,
   "metadata": {},
   "outputs": [],
   "source": []
  },
  {
   "cell_type": "markdown",
   "metadata": {},
   "source": [
    "### Identify master regulators"
   ]
  },
  {
   "cell_type": "code",
   "execution_count": 5,
   "metadata": {},
   "outputs": [],
   "source": [
    "adata_G = si.read_h5ad(os.path.join(workdir,'adata_G.h5ad'))\n",
    "adata_M = si.read_h5ad(os.path.join(workdir,'adata_M.h5ad'))\n",
    "\n",
    "adata_all = si.read_h5ad(os.path.join(workdir,'adata_all.h5ad'))\n",
    "\n",
    "adata_cmp_CG = si.read_h5ad(os.path.join(workdir,'adata_cmp_CG.h5ad'))\n",
    "adata_cmp_CM = si.read_h5ad(os.path.join(workdir,'adata_cmp_CM.h5ad'))"
   ]
  },
  {
   "cell_type": "code",
   "execution_count": 6,
   "metadata": {},
   "outputs": [],
   "source": [
    "# find paired TF motifs and TF genes\n",
    "motifs_genes = pd.DataFrame(columns=['motif', 'gene'])\n",
    "for x in adata_M.obs_names:\n",
    "    x_split = x.split('_')\n",
    "    for y in adata_G.obs_names:\n",
    "        if y in x_split:\n",
    "            motifs_genes.loc[motifs_genes.shape[0]] = [x,y]"
   ]
  },
  {
   "cell_type": "code",
   "execution_count": 7,
   "metadata": {},
   "outputs": [
    {
     "name": "stdout",
     "output_type": "stream",
     "text": [
      "(545, 2)\n"
     ]
    },
    {
     "data": {
      "text/html": [
       "<div>\n",
       "<style scoped>\n",
       "    .dataframe tbody tr th:only-of-type {\n",
       "        vertical-align: middle;\n",
       "    }\n",
       "\n",
       "    .dataframe tbody tr th {\n",
       "        vertical-align: top;\n",
       "    }\n",
       "\n",
       "    .dataframe thead th {\n",
       "        text-align: right;\n",
       "    }\n",
       "</style>\n",
       "<table border=\"1\" class=\"dataframe\">\n",
       "  <thead>\n",
       "    <tr style=\"text-align: right;\">\n",
       "      <th></th>\n",
       "      <th>motif</th>\n",
       "      <th>gene</th>\n",
       "    </tr>\n",
       "  </thead>\n",
       "  <tbody>\n",
       "    <tr>\n",
       "      <th>0</th>\n",
       "      <td>M_ENSMUSG00000056854_LINE1392_Pou3f4_D</td>\n",
       "      <td>Pou3f4</td>\n",
       "    </tr>\n",
       "    <tr>\n",
       "      <th>1</th>\n",
       "      <td>M_ENSMUSG00000039164_LINE1505_Naif1_I</td>\n",
       "      <td>Naif1</td>\n",
       "    </tr>\n",
       "    <tr>\n",
       "      <th>2</th>\n",
       "      <td>M_ENSMUSG00000021779_LINE6679_Thrb_I_N2</td>\n",
       "      <td>Thrb</td>\n",
       "    </tr>\n",
       "    <tr>\n",
       "      <th>3</th>\n",
       "      <td>M_ENSMUSG00000072294_LINE811_Klf12_D_N1</td>\n",
       "      <td>Klf12</td>\n",
       "    </tr>\n",
       "    <tr>\n",
       "      <th>4</th>\n",
       "      <td>M_ENSMUSG00000001288_LINE1567_Rarg_D_N1</td>\n",
       "      <td>Rarg</td>\n",
       "    </tr>\n",
       "  </tbody>\n",
       "</table>\n",
       "</div>"
      ],
      "text/plain": [
       "                                     motif    gene\n",
       "0   M_ENSMUSG00000056854_LINE1392_Pou3f4_D  Pou3f4\n",
       "1    M_ENSMUSG00000039164_LINE1505_Naif1_I   Naif1\n",
       "2  M_ENSMUSG00000021779_LINE6679_Thrb_I_N2    Thrb\n",
       "3  M_ENSMUSG00000072294_LINE811_Klf12_D_N1   Klf12\n",
       "4  M_ENSMUSG00000001288_LINE1567_Rarg_D_N1    Rarg"
      ]
     },
     "execution_count": 7,
     "metadata": {},
     "output_type": "execute_result"
    }
   ],
   "source": [
    "print(motifs_genes.shape)\n",
    "motifs_genes.head()"
   ]
  },
  {
   "cell_type": "code",
   "execution_count": 9,
   "metadata": {},
   "outputs": [],
   "source": [
    "list_tf_motif = motifs_genes['motif'].tolist()\n",
    "list_tf_gene = motifs_genes['gene'].tolist()\n",
    "\n",
    "df_metrics_motif = adata_cmp_CM.var.copy()\n",
    "df_metrics_gene = adata_cmp_CG.var.copy()"
   ]
  },
  {
   "cell_type": "code",
   "execution_count": 11,
   "metadata": {},
   "outputs": [
    {
     "data": {
      "text/html": [
       "<div>\n",
       "<style scoped>\n",
       "    .dataframe tbody tr th:only-of-type {\n",
       "        vertical-align: middle;\n",
       "    }\n",
       "\n",
       "    .dataframe tbody tr th {\n",
       "        vertical-align: top;\n",
       "    }\n",
       "\n",
       "    .dataframe thead th {\n",
       "        text-align: right;\n",
       "    }\n",
       "</style>\n",
       "<table border=\"1\" class=\"dataframe\">\n",
       "  <thead>\n",
       "    <tr style=\"text-align: right;\">\n",
       "      <th></th>\n",
       "      <th>max</th>\n",
       "      <th>std</th>\n",
       "      <th>gini</th>\n",
       "      <th>entropy</th>\n",
       "    </tr>\n",
       "  </thead>\n",
       "  <tbody>\n",
       "    <tr>\n",
       "      <th>M_ENSMUSG00000045903_LINE141_Npas4_I</th>\n",
       "      <td>1.486339</td>\n",
       "      <td>0.809502</td>\n",
       "      <td>0.390054</td>\n",
       "      <td>8.516953</td>\n",
       "    </tr>\n",
       "    <tr>\n",
       "      <th>M_ENSMUSG00000056854_LINE1392_Pou3f4_D</th>\n",
       "      <td>3.707385</td>\n",
       "      <td>2.825883</td>\n",
       "      <td>0.922120</td>\n",
       "      <td>5.813827</td>\n",
       "    </tr>\n",
       "    <tr>\n",
       "      <th>M_ENSMUSG00000067261_LINE1101_Foxd3_I</th>\n",
       "      <td>3.972934</td>\n",
       "      <td>3.138940</td>\n",
       "      <td>0.968917</td>\n",
       "      <td>4.672879</td>\n",
       "    </tr>\n",
       "    <tr>\n",
       "      <th>M_ENSMUSG00000039164_LINE1505_Naif1_I</th>\n",
       "      <td>1.641688</td>\n",
       "      <td>1.004522</td>\n",
       "      <td>0.436659</td>\n",
       "      <td>8.448645</td>\n",
       "    </tr>\n",
       "    <tr>\n",
       "      <th>M_ENSMUSG00000021779_LINE6679_Thrb_I_N2</th>\n",
       "      <td>1.991992</td>\n",
       "      <td>0.862905</td>\n",
       "      <td>0.461154</td>\n",
       "      <td>8.395323</td>\n",
       "    </tr>\n",
       "  </tbody>\n",
       "</table>\n",
       "</div>"
      ],
      "text/plain": [
       "                                              max       std      gini  \\\n",
       "M_ENSMUSG00000045903_LINE141_Npas4_I     1.486339  0.809502  0.390054   \n",
       "M_ENSMUSG00000056854_LINE1392_Pou3f4_D   3.707385  2.825883  0.922120   \n",
       "M_ENSMUSG00000067261_LINE1101_Foxd3_I    3.972934  3.138940  0.968917   \n",
       "M_ENSMUSG00000039164_LINE1505_Naif1_I    1.641688  1.004522  0.436659   \n",
       "M_ENSMUSG00000021779_LINE6679_Thrb_I_N2  1.991992  0.862905  0.461154   \n",
       "\n",
       "                                          entropy  \n",
       "M_ENSMUSG00000045903_LINE141_Npas4_I     8.516953  \n",
       "M_ENSMUSG00000056854_LINE1392_Pou3f4_D   5.813827  \n",
       "M_ENSMUSG00000067261_LINE1101_Foxd3_I    4.672879  \n",
       "M_ENSMUSG00000039164_LINE1505_Naif1_I    8.448645  \n",
       "M_ENSMUSG00000021779_LINE6679_Thrb_I_N2  8.395323  "
      ]
     },
     "execution_count": 11,
     "metadata": {},
     "output_type": "execute_result"
    }
   ],
   "source": [
    "df_metrics_motif.head()"
   ]
  },
  {
   "cell_type": "code",
   "execution_count": 12,
   "metadata": {},
   "outputs": [
    {
     "data": {
      "text/html": [
       "<div>\n",
       "<style scoped>\n",
       "    .dataframe tbody tr th:only-of-type {\n",
       "        vertical-align: middle;\n",
       "    }\n",
       "\n",
       "    .dataframe tbody tr th {\n",
       "        vertical-align: top;\n",
       "    }\n",
       "\n",
       "    .dataframe thead th {\n",
       "        text-align: right;\n",
       "    }\n",
       "</style>\n",
       "<table border=\"1\" class=\"dataframe\">\n",
       "  <thead>\n",
       "    <tr style=\"text-align: right;\">\n",
       "      <th></th>\n",
       "      <th>max</th>\n",
       "      <th>std</th>\n",
       "      <th>gini</th>\n",
       "      <th>entropy</th>\n",
       "    </tr>\n",
       "  </thead>\n",
       "  <tbody>\n",
       "    <tr>\n",
       "      <th>Nemf</th>\n",
       "      <td>0.953891</td>\n",
       "      <td>0.414289</td>\n",
       "      <td>0.223926</td>\n",
       "      <td>8.689371</td>\n",
       "    </tr>\n",
       "    <tr>\n",
       "      <th>4930524O07Rik</th>\n",
       "      <td>0.770682</td>\n",
       "      <td>0.257394</td>\n",
       "      <td>0.147313</td>\n",
       "      <td>8.734219</td>\n",
       "    </tr>\n",
       "    <tr>\n",
       "      <th>Zfp455</th>\n",
       "      <td>0.875628</td>\n",
       "      <td>0.287687</td>\n",
       "      <td>0.166179</td>\n",
       "      <td>8.724028</td>\n",
       "    </tr>\n",
       "    <tr>\n",
       "      <th>Casp12</th>\n",
       "      <td>0.939308</td>\n",
       "      <td>0.323212</td>\n",
       "      <td>0.184197</td>\n",
       "      <td>8.714138</td>\n",
       "    </tr>\n",
       "    <tr>\n",
       "      <th>Coro1a</th>\n",
       "      <td>0.978200</td>\n",
       "      <td>0.403667</td>\n",
       "      <td>0.224001</td>\n",
       "      <td>8.689423</td>\n",
       "    </tr>\n",
       "  </tbody>\n",
       "</table>\n",
       "</div>"
      ],
      "text/plain": [
       "                    max       std      gini   entropy\n",
       "Nemf           0.953891  0.414289  0.223926  8.689371\n",
       "4930524O07Rik  0.770682  0.257394  0.147313  8.734219\n",
       "Zfp455         0.875628  0.287687  0.166179  8.724028\n",
       "Casp12         0.939308  0.323212  0.184197  8.714138\n",
       "Coro1a         0.978200  0.403667  0.224001  8.689423"
      ]
     },
     "execution_count": 12,
     "metadata": {},
     "output_type": "execute_result"
    }
   ],
   "source": [
    "df_metrics_gene.head()"
   ]
  },
  {
   "cell_type": "code",
   "execution_count": null,
   "metadata": {},
   "outputs": [],
   "source": []
  },
  {
   "cell_type": "markdown",
   "metadata": {},
   "source": [
    "plot SIMBA metrics in order to help set the cutoffs later"
   ]
  },
  {
   "cell_type": "code",
   "execution_count": 13,
   "metadata": {},
   "outputs": [
    {
     "data": {
      "image/png": "[encoded data removed]",
      "text/plain": [
       "<Figure size 400x400 with 1 Axes>"
      ]
     },
     "metadata": {
      "image/png": {
       "height": 383,
       "width": 384
      }
     },
     "output_type": "display_data"
    }
   ],
   "source": [
    "si.pl.entity_metrics(adata_cmp_CG,x='max',y='gini',\n",
    "                     show_texts=False,\n",
    "                     show_cutoff=True,\n",
    "                     show_contour=True,\n",
    "                     c='#607e95',\n",
    "                     cutoff_x=1.5,\n",
    "                     cutoff_y=0.35)"
   ]
  },
  {
   "cell_type": "code",
   "execution_count": 14,
   "metadata": {},
   "outputs": [
    {
     "data": {
      "image/png": "[encoded data removed]",
      "text/plain": [
       "<Figure size 400x400 with 1 Axes>"
      ]
     },
     "metadata": {
      "image/png": {
       "height": 383,
       "width": 384
      }
     },
     "output_type": "display_data"
    }
   ],
   "source": [
    "si.pl.entity_metrics(adata_cmp_CM,x='max',y='gini',\n",
    "                     show_texts=False,\n",
    "                     show_cutoff=True,\n",
    "                     show_contour=True,\n",
    "                     c='#92ba79',\n",
    "                     cutoff_x=3,\n",
    "                     cutoff_y=0.7)"
   ]
  },
  {
   "cell_type": "code",
   "execution_count": null,
   "metadata": {},
   "outputs": [],
   "source": []
  },
  {
   "cell_type": "markdown",
   "metadata": {},
   "source": [
    "identify master regulators"
   ]
  },
  {
   "cell_type": "code",
   "execution_count": 15,
   "metadata": {},
   "outputs": [
    {
     "name": "stderr",
     "output_type": "stream",
     "text": [
      "/data/pinello/SHARED_SOFTWARE/anaconda_latest/envs/hc_simba/lib/python3.7/site-packages/pandas/core/arrays/categorical.py:2487: FutureWarning: The `inplace` parameter in pandas.Categorical.remove_unused_categories is deprecated and will be removed in a future version.\n",
      "  res = method(*args, **kwargs)\n"
     ]
    },
    {
     "name": "stdout",
     "output_type": "stream",
     "text": [
      "Adding motif metrics ...\n",
      "Adding gene metrics ...\n",
      "Computing distances between TF motifs and genes ...\n",
      "filtering master regulators based on gene metrics:\n",
      "Gini index\n",
      "max\n",
      "filtering master regulators based on motif metrics:\n",
      "Gini index\n",
      "max\n"
     ]
    }
   ],
   "source": [
    "df_MR = si.tl.find_master_regulators(adata_all,\n",
    "                                     list_tf_motif=list_tf_motif,\n",
    "                                     list_tf_gene=list_tf_gene,\n",
    "                                     cutoff_gene_max=1.5,\n",
    "                                     cutoff_gene_gini=0.35,\n",
    "                                     cutoff_motif_max=3,\n",
    "                                     cutoff_motif_gini=0.7,\n",
    "                                     metrics_gene=df_metrics_gene,\n",
    "                                     metrics_motif=df_metrics_motif\n",
    "                                    )"
   ]
  },
  {
   "cell_type": "code",
   "execution_count": 16,
   "metadata": {},
   "outputs": [
    {
     "data": {
      "text/html": [
       "<div>\n",
       "<style scoped>\n",
       "    .dataframe tbody tr th:only-of-type {\n",
       "        vertical-align: middle;\n",
       "    }\n",
       "\n",
       "    .dataframe tbody tr th {\n",
       "        vertical-align: top;\n",
       "    }\n",
       "\n",
       "    .dataframe thead th {\n",
       "        text-align: right;\n",
       "    }\n",
       "</style>\n",
       "<table border=\"1\" class=\"dataframe\">\n",
       "  <thead>\n",
       "    <tr style=\"text-align: right;\">\n",
       "      <th></th>\n",
       "      <th>motif</th>\n",
       "      <th>gene</th>\n",
       "      <th>rank</th>\n",
       "      <th>dist</th>\n",
       "      <th>max_motif</th>\n",
       "      <th>std_motif</th>\n",
       "      <th>gini_motif</th>\n",
       "      <th>entropy_motif</th>\n",
       "      <th>max_gene</th>\n",
       "      <th>std_gene</th>\n",
       "      <th>gini_gene</th>\n",
       "      <th>entropy_gene</th>\n",
       "    </tr>\n",
       "  </thead>\n",
       "  <tbody>\n",
       "    <tr>\n",
       "      <th>0</th>\n",
       "      <td>M_ENSMUSG00000002983_LINE7015_Relb_I</td>\n",
       "      <td>Relb</td>\n",
       "      <td>6.0</td>\n",
       "      <td>1.841419</td>\n",
       "      <td>4.137951</td>\n",
       "      <td>2.204292</td>\n",
       "      <td>0.958187</td>\n",
       "      <td>5.173000</td>\n",
       "      <td>2.200178</td>\n",
       "      <td>0.819749</td>\n",
       "      <td>0.475906</td>\n",
       "      <td>8.339973</td>\n",
       "    </tr>\n",
       "    <tr>\n",
       "      <th>1</th>\n",
       "      <td>M_ENSMUSG00000027985_LINE1723_Lef1_D</td>\n",
       "      <td>Lef1</td>\n",
       "      <td>20.0</td>\n",
       "      <td>1.777754</td>\n",
       "      <td>3.629514</td>\n",
       "      <td>2.863067</td>\n",
       "      <td>0.896504</td>\n",
       "      <td>6.426489</td>\n",
       "      <td>1.555286</td>\n",
       "      <td>0.881973</td>\n",
       "      <td>0.448684</td>\n",
       "      <td>8.439009</td>\n",
       "    </tr>\n",
       "    <tr>\n",
       "      <th>2</th>\n",
       "      <td>M_ENSMUSG00000005836_LINE1110_Gata6_D</td>\n",
       "      <td>Gata6</td>\n",
       "      <td>20.0</td>\n",
       "      <td>2.180344</td>\n",
       "      <td>4.005656</td>\n",
       "      <td>3.809256</td>\n",
       "      <td>0.968346</td>\n",
       "      <td>4.878388</td>\n",
       "      <td>2.022788</td>\n",
       "      <td>0.665929</td>\n",
       "      <td>0.412207</td>\n",
       "      <td>8.438866</td>\n",
       "    </tr>\n",
       "    <tr>\n",
       "      <th>3</th>\n",
       "      <td>M_ENSMUSG00000025225_LINE1658_Nfkb2_I</td>\n",
       "      <td>Nfkb2</td>\n",
       "      <td>50.0</td>\n",
       "      <td>2.329539</td>\n",
       "      <td>3.904178</td>\n",
       "      <td>1.802294</td>\n",
       "      <td>0.922550</td>\n",
       "      <td>5.768632</td>\n",
       "      <td>1.762300</td>\n",
       "      <td>0.665998</td>\n",
       "      <td>0.375743</td>\n",
       "      <td>8.521793</td>\n",
       "    </tr>\n",
       "    <tr>\n",
       "      <th>4</th>\n",
       "      <td>M_ENSMUSG00000033016_LINE1662_Nfatc1_I</td>\n",
       "      <td>Nfatc1</td>\n",
       "      <td>54.0</td>\n",
       "      <td>2.451544</td>\n",
       "      <td>3.552284</td>\n",
       "      <td>2.898845</td>\n",
       "      <td>0.977447</td>\n",
       "      <td>3.644386</td>\n",
       "      <td>1.787450</td>\n",
       "      <td>0.620042</td>\n",
       "      <td>0.365021</td>\n",
       "      <td>8.528356</td>\n",
       "    </tr>\n",
       "    <tr>\n",
       "      <th>...</th>\n",
       "      <td>...</td>\n",
       "      <td>...</td>\n",
       "      <td>...</td>\n",
       "      <td>...</td>\n",
       "      <td>...</td>\n",
       "      <td>...</td>\n",
       "      <td>...</td>\n",
       "      <td>...</td>\n",
       "      <td>...</td>\n",
       "      <td>...</td>\n",
       "      <td>...</td>\n",
       "      <td>...</td>\n",
       "    </tr>\n",
       "    <tr>\n",
       "      <th>63</th>\n",
       "      <td>M_ENSMUSG00000026077_LINE84_Npas2_D</td>\n",
       "      <td>Npas2</td>\n",
       "      <td>17207.0</td>\n",
       "      <td>4.290294</td>\n",
       "      <td>3.382352</td>\n",
       "      <td>2.224144</td>\n",
       "      <td>0.946492</td>\n",
       "      <td>4.167462</td>\n",
       "      <td>2.068159</td>\n",
       "      <td>0.851327</td>\n",
       "      <td>0.467876</td>\n",
       "      <td>8.372712</td>\n",
       "    </tr>\n",
       "    <tr>\n",
       "      <th>64</th>\n",
       "      <td>M_ENSMUSG00000028940_LINE94_Hes2_D</td>\n",
       "      <td>Hes2</td>\n",
       "      <td>17221.0</td>\n",
       "      <td>3.984124</td>\n",
       "      <td>3.309705</td>\n",
       "      <td>1.710030</td>\n",
       "      <td>0.817412</td>\n",
       "      <td>6.702363</td>\n",
       "      <td>1.796419</td>\n",
       "      <td>0.752017</td>\n",
       "      <td>0.428637</td>\n",
       "      <td>8.447193</td>\n",
       "    </tr>\n",
       "    <tr>\n",
       "      <th>65</th>\n",
       "      <td>M_ENSMUSG00000042745_LINE133_Id1_I</td>\n",
       "      <td>Id1</td>\n",
       "      <td>17257.0</td>\n",
       "      <td>4.314670</td>\n",
       "      <td>3.443919</td>\n",
       "      <td>2.221636</td>\n",
       "      <td>0.934407</td>\n",
       "      <td>4.687283</td>\n",
       "      <td>1.907240</td>\n",
       "      <td>0.794275</td>\n",
       "      <td>0.432841</td>\n",
       "      <td>8.438908</td>\n",
       "    </tr>\n",
       "    <tr>\n",
       "      <th>66</th>\n",
       "      <td>M_ENSMUSG00000038415_LINE1071_Foxq1_I</td>\n",
       "      <td>Foxq1</td>\n",
       "      <td>17321.0</td>\n",
       "      <td>2.686434</td>\n",
       "      <td>3.650490</td>\n",
       "      <td>2.118908</td>\n",
       "      <td>0.890306</td>\n",
       "      <td>6.075940</td>\n",
       "      <td>2.636956</td>\n",
       "      <td>1.002889</td>\n",
       "      <td>0.630324</td>\n",
       "      <td>7.898009</td>\n",
       "    </tr>\n",
       "    <tr>\n",
       "      <th>67</th>\n",
       "      <td>M_ENSMUSG00000038151_LINE465_Prdm1_I</td>\n",
       "      <td>Prdm1</td>\n",
       "      <td>17352.0</td>\n",
       "      <td>3.679676</td>\n",
       "      <td>3.006260</td>\n",
       "      <td>1.422200</td>\n",
       "      <td>0.703327</td>\n",
       "      <td>7.631708</td>\n",
       "      <td>2.698913</td>\n",
       "      <td>1.290094</td>\n",
       "      <td>0.725242</td>\n",
       "      <td>7.627998</td>\n",
       "    </tr>\n",
       "  </tbody>\n",
       "</table>\n",
       "<p>68 rows × 12 columns</p>\n",
       "</div>"
      ],
      "text/plain": [
       "                                     motif    gene     rank      dist  \\\n",
       "0     M_ENSMUSG00000002983_LINE7015_Relb_I    Relb      6.0  1.841419   \n",
       "1     M_ENSMUSG00000027985_LINE1723_Lef1_D    Lef1     20.0  1.777754   \n",
       "2    M_ENSMUSG00000005836_LINE1110_Gata6_D   Gata6     20.0  2.180344   \n",
       "3    M_ENSMUSG00000025225_LINE1658_Nfkb2_I   Nfkb2     50.0  2.329539   \n",
       "4   M_ENSMUSG00000033016_LINE1662_Nfatc1_I  Nfatc1     54.0  2.451544   \n",
       "..                                     ...     ...      ...       ...   \n",
       "63     M_ENSMUSG00000026077_LINE84_Npas2_D   Npas2  17207.0  4.290294   \n",
       "64      M_ENSMUSG00000028940_LINE94_Hes2_D    Hes2  17221.0  3.984124   \n",
       "65      M_ENSMUSG00000042745_LINE133_Id1_I     Id1  17257.0  4.314670   \n",
       "66   M_ENSMUSG00000038415_LINE1071_Foxq1_I   Foxq1  17321.0  2.686434   \n",
       "67    M_ENSMUSG00000038151_LINE465_Prdm1_I   Prdm1  17352.0  3.679676   \n",
       "\n",
       "    max_motif  std_motif  gini_motif  entropy_motif  max_gene  std_gene  \\\n",
       "0    4.137951   2.204292    0.958187       5.173000  2.200178  0.819749   \n",
       "1    3.629514   2.863067    0.896504       6.426489  1.555286  0.881973   \n",
       "2    4.005656   3.809256    0.968346       4.878388  2.022788  0.665929   \n",
       "3    3.904178   1.802294    0.922550       5.768632  1.762300  0.665998   \n",
       "4    3.552284   2.898845    0.977447       3.644386  1.787450  0.620042   \n",
       "..        ...        ...         ...            ...       ...       ...   \n",
       "63   3.382352   2.224144    0.946492       4.167462  2.068159  0.851327   \n",
       "64   3.309705   1.710030    0.817412       6.702363  1.796419  0.752017   \n",
       "65   3.443919   2.221636    0.934407       4.687283  1.907240  0.794275   \n",
       "66   3.650490   2.118908    0.890306       6.075940  2.636956  1.002889   \n",
       "67   3.006260   1.422200    0.703327       7.631708  2.698913  1.290094   \n",
       "\n",
       "    gini_gene  entropy_gene  \n",
       "0    0.475906      8.339973  \n",
       "1    0.448684      8.439009  \n",
       "2    0.412207      8.438866  \n",
       "3    0.375743      8.521793  \n",
       "4    0.365021      8.528356  \n",
       "..        ...           ...  \n",
       "63   0.467876      8.372712  \n",
       "64   0.428637      8.447193  \n",
       "65   0.432841      8.438908  \n",
       "66   0.630324      7.898009  \n",
       "67   0.725242      7.627998  \n",
       "\n",
       "[68 rows x 12 columns]"
      ]
     },
     "execution_count": 16,
     "metadata": {},
     "output_type": "execute_result"
    }
   ],
   "source": [
    "df_MR"
   ]
  },
  {
   "cell_type": "code",
   "execution_count": null,
   "metadata": {},
   "outputs": [],
   "source": []
  },
  {
   "cell_type": "markdown",
   "metadata": {},
   "source": [
    "### Identify target genes"
   ]
  },
  {
   "cell_type": "code",
   "execution_count": null,
   "metadata": {},
   "outputs": [],
   "source": []
  },
  {
   "cell_type": "code",
   "execution_count": 20,
   "metadata": {},
   "outputs": [],
   "source": [
    "adata_CP = si.read_h5ad(os.path.join(workdir,'adata_CP.h5ad'))\n",
    "\n",
    "adata_PM = si.read_h5ad(os.path.join(workdir,'adata_PM.h5ad'))\n",
    "#make sure the indices of motifs are the same as in `motifs_genes`\n",
    "adata_PM.var.index = 'M_' + adata_PM.var.index "
   ]
  },
  {
   "cell_type": "code",
   "execution_count": 21,
   "metadata": {},
   "outputs": [],
   "source": [
    "master_regulators = ['Lef1', 'Hoxc13', 'Relb', 'Gata6', 'Nfatc1']\n",
    "list_tf_motif = motifs_genes[np.isin(motifs_genes['gene'], master_regulators)]['motif'].tolist()\n",
    "list_tf_gene = motifs_genes[np.isin(motifs_genes['gene'], master_regulators)]['gene'].tolist()"
   ]
  },
  {
   "cell_type": "code",
   "execution_count": null,
   "metadata": {},
   "outputs": [],
   "source": []
  },
  {
   "cell_type": "markdown",
   "metadata": {},
   "source": [
    "The following step can be ignored if `si.tl.gene_scores(adata_CP)` has been performed before"
   ]
  },
  {
   "cell_type": "code",
   "execution_count": 22,
   "metadata": {},
   "outputs": [
    {
     "name": "stdout",
     "output_type": "stream",
     "text": [
      "Gene scores are being calculated for the first time\n",
      "`use_precomputed` has been ignored\n",
      "Processing: 0.0%\n",
      "Processing: 20.0%\n",
      "Processing: 40.0%\n",
      "Processing: 60.0%\n",
      "Processing: 80.0%\n"
     ]
    },
    {
     "name": "stderr",
     "output_type": "stream",
     "text": [
      "/data/pinello/SHARED_SOFTWARE/anaconda_latest/envs/hc_simba/lib/python3.7/site-packages/pandas/core/arrays/categorical.py:2487: FutureWarning: The `inplace` parameter in pandas.Categorical.remove_unused_categories is deprecated and will be removed in a future version.\n",
      "  res = method(*args, **kwargs)\n"
     ]
    }
   ],
   "source": [
    "# get the overlap between peaks and gene loci\n",
    "# the field `uns['gene_scores']['overlap']` will be added to adata_CP\n",
    "_ = si.tl.gene_scores(adata_CP,genome='mm10',use_gene_weigt=True,use_top_pcs=False)"
   ]
  },
  {
   "cell_type": "code",
   "execution_count": 23,
   "metadata": {},
   "outputs": [
    {
     "name": "stdout",
     "output_type": "stream",
     "text": [
      "Preprocessing ...\n"
     ]
    },
    {
     "name": "stderr",
     "output_type": "stream",
     "text": [
      "/data/pinello/SHARED_SOFTWARE/anaconda_latest/envs/hc_simba/lib/python3.7/site-packages/pandas/core/arrays/categorical.py:2487: FutureWarning: The `inplace` parameter in pandas.Categorical.remove_unused_categories is deprecated and will be removed in a future version.\n",
      "  res = method(*args, **kwargs)\n"
     ]
    },
    {
     "name": "stdout",
     "output_type": "stream",
     "text": [
      "#genes: 17399\n",
      "#peaks: 332987\n",
      "#genes-associated peaks: 318851\n",
      "computing distances between genes and genes-associated peaks ...\n",
      "Saving variables into `.uns['tf_targets']` ...\n",
      "searching for target genes of M_ENSMUSG00000005836_LINE1110_Gata6_D\n",
      "#candinate genes is 400\n",
      "removing duplicate genes ...\n",
      "removing genes that do not contain TF motif ...\n",
      "#candinate genes is 213\n",
      "completed: 0.0%\n",
      "completed: 19.7%\n",
      "completed: 39.4%\n",
      "completed: 59.2%\n",
      "completed: 78.9%\n",
      "completed: 98.6%\n",
      "Pruning candidate genes based on nearby peaks ...\n",
      "Pruning candidate genes based on average rank ...\n",
      "searching for target genes of M_ENSMUSG00000033016_LINE1662_Nfatc1_I\n"
     ]
    },
    {
     "name": "stderr",
     "output_type": "stream",
     "text": [
      "/data/pinello/SHARED_SOFTWARE/anaconda_latest/envs/hc_simba/lib/python3.7/site-packages/pandas/core/arrays/categorical.py:2487: FutureWarning: The `inplace` parameter in pandas.Categorical.remove_unused_categories is deprecated and will be removed in a future version.\n",
      "  res = method(*args, **kwargs)\n"
     ]
    },
    {
     "name": "stdout",
     "output_type": "stream",
     "text": [
      "#candinate genes is 400\n",
      "removing duplicate genes ...\n",
      "removing genes that do not contain TF motif ...\n",
      "#candinate genes is 232\n",
      "completed: 0.0%\n",
      "completed: 19.8%\n",
      "completed: 39.7%\n",
      "completed: 59.5%\n",
      "completed: 79.3%\n",
      "completed: 99.1%\n",
      "Pruning candidate genes based on nearby peaks ...\n",
      "Pruning candidate genes based on average rank ...\n",
      "searching for target genes of M_ENSMUSG00000027985_LINE1723_Lef1_D\n"
     ]
    },
    {
     "name": "stderr",
     "output_type": "stream",
     "text": [
      "/data/pinello/SHARED_SOFTWARE/anaconda_latest/envs/hc_simba/lib/python3.7/site-packages/pandas/core/arrays/categorical.py:2487: FutureWarning: The `inplace` parameter in pandas.Categorical.remove_unused_categories is deprecated and will be removed in a future version.\n",
      "  res = method(*args, **kwargs)\n"
     ]
    },
    {
     "name": "stdout",
     "output_type": "stream",
     "text": [
      "#candinate genes is 400\n",
      "removing duplicate genes ...\n",
      "removing genes that do not contain TF motif ...\n",
      "#candinate genes is 289\n",
      "completed: 0.0%\n",
      "completed: 19.7%\n",
      "completed: 39.4%\n",
      "completed: 59.2%\n",
      "completed: 78.9%\n",
      "completed: 98.6%\n",
      "Pruning candidate genes based on nearby peaks ...\n",
      "Pruning candidate genes based on average rank ...\n",
      "searching for target genes of M_ENSMUSG00000002983_LINE7015_Relb_I\n"
     ]
    },
    {
     "name": "stderr",
     "output_type": "stream",
     "text": [
      "/data/pinello/SHARED_SOFTWARE/anaconda_latest/envs/hc_simba/lib/python3.7/site-packages/pandas/core/arrays/categorical.py:2487: FutureWarning: The `inplace` parameter in pandas.Categorical.remove_unused_categories is deprecated and will be removed in a future version.\n",
      "  res = method(*args, **kwargs)\n"
     ]
    },
    {
     "name": "stdout",
     "output_type": "stream",
     "text": [
      "#candinate genes is 400\n",
      "removing duplicate genes ...\n",
      "removing genes that do not contain TF motif ...\n",
      "#candinate genes is 226\n",
      "completed: 0.0%\n",
      "completed: 19.9%\n",
      "completed: 39.8%\n",
      "completed: 59.7%\n",
      "completed: 79.6%\n",
      "completed: 99.6%\n",
      "Pruning candidate genes based on nearby peaks ...\n",
      "Pruning candidate genes based on average rank ...\n",
      "searching for target genes of M_ENSMUSG00000001655_LINE1151_Hoxc13_D\n"
     ]
    },
    {
     "name": "stderr",
     "output_type": "stream",
     "text": [
      "/data/pinello/SHARED_SOFTWARE/anaconda_latest/envs/hc_simba/lib/python3.7/site-packages/pandas/core/arrays/categorical.py:2487: FutureWarning: The `inplace` parameter in pandas.Categorical.remove_unused_categories is deprecated and will be removed in a future version.\n",
      "  res = method(*args, **kwargs)\n"
     ]
    },
    {
     "name": "stdout",
     "output_type": "stream",
     "text": [
      "#candinate genes is 400\n",
      "removing duplicate genes ...\n",
      "removing genes that do not contain TF motif ...\n",
      "#candinate genes is 259\n",
      "completed: 0.0%\n",
      "completed: 19.7%\n",
      "completed: 39.4%\n",
      "completed: 59.1%\n",
      "completed: 78.8%\n",
      "completed: 98.5%\n",
      "Pruning candidate genes based on nearby peaks ...\n",
      "Pruning candidate genes based on average rank ...\n"
     ]
    }
   ],
   "source": [
    "dict_tf_targets = si.tl.find_target_genes(adata_all,\n",
    "                                          adata_PM,\n",
    "                                          list_tf_motif=list_tf_motif,\n",
    "                                          list_tf_gene=list_tf_gene,\n",
    "                                          adata_CP=adata_CP,\n",
    "                                          cutoff_gene=5000)"
   ]
  },
  {
   "cell_type": "code",
   "execution_count": null,
   "metadata": {},
   "outputs": [],
   "source": []
  },
  {
   "cell_type": "code",
   "execution_count": 24,
   "metadata": {},
   "outputs": [
    {
     "data": {
      "text/plain": [
       "dict_keys(['M_ENSMUSG00000005836_LINE1110_Gata6_D', 'M_ENSMUSG00000033016_LINE1662_Nfatc1_I', 'M_ENSMUSG00000027985_LINE1723_Lef1_D', 'M_ENSMUSG00000002983_LINE7015_Relb_I', 'M_ENSMUSG00000001655_LINE1151_Hoxc13_D'])"
      ]
     },
     "execution_count": 24,
     "metadata": {},
     "output_type": "execute_result"
    }
   ],
   "source": [
    "dict_tf_targets.keys()"
   ]
  },
  {
   "cell_type": "code",
   "execution_count": 25,
   "metadata": {},
   "outputs": [
    {
     "data": {
      "text/html": [
       "<div>\n",
       "<style scoped>\n",
       "    .dataframe tbody tr th:only-of-type {\n",
       "        vertical-align: middle;\n",
       "    }\n",
       "\n",
       "    .dataframe tbody tr th {\n",
       "        vertical-align: top;\n",
       "    }\n",
       "\n",
       "    .dataframe thead th {\n",
       "        text-align: right;\n",
       "    }\n",
       "</style>\n",
       "<table border=\"1\" class=\"dataframe\">\n",
       "  <thead>\n",
       "    <tr style=\"text-align: right;\">\n",
       "      <th></th>\n",
       "      <th>average_rank</th>\n",
       "      <th>has_motif</th>\n",
       "      <th>rank_gene_to_TFmotif</th>\n",
       "      <th>rank_gene_to_TFgene</th>\n",
       "      <th>rank_peak_to_TFmotif</th>\n",
       "      <th>rank_peak2_to_TFmotif</th>\n",
       "      <th>rank_peak_to_gene</th>\n",
       "      <th>rank_peak2_to_gene</th>\n",
       "    </tr>\n",
       "  </thead>\n",
       "  <tbody>\n",
       "    <tr>\n",
       "      <th>Slc16a6</th>\n",
       "      <td>10.0</td>\n",
       "      <td>yes</td>\n",
       "      <td>2.0</td>\n",
       "      <td>18.0</td>\n",
       "      <td>2364.0</td>\n",
       "      <td>13824.0</td>\n",
       "      <td>917.0</td>\n",
       "      <td>917.0</td>\n",
       "    </tr>\n",
       "    <tr>\n",
       "      <th>Lef1</th>\n",
       "      <td>10.5</td>\n",
       "      <td>yes</td>\n",
       "      <td>20.0</td>\n",
       "      <td>1.0</td>\n",
       "      <td>121.0</td>\n",
       "      <td>2150.0</td>\n",
       "      <td>803.0</td>\n",
       "      <td>803.0</td>\n",
       "    </tr>\n",
       "    <tr>\n",
       "      <th>Psd3</th>\n",
       "      <td>14.0</td>\n",
       "      <td>yes</td>\n",
       "      <td>26.0</td>\n",
       "      <td>2.0</td>\n",
       "      <td>181.0</td>\n",
       "      <td>3591.0</td>\n",
       "      <td>522.0</td>\n",
       "      <td>522.0</td>\n",
       "    </tr>\n",
       "    <tr>\n",
       "      <th>Tle4</th>\n",
       "      <td>17.5</td>\n",
       "      <td>yes</td>\n",
       "      <td>31.0</td>\n",
       "      <td>4.0</td>\n",
       "      <td>2.0</td>\n",
       "      <td>2.0</td>\n",
       "      <td>26.0</td>\n",
       "      <td>26.0</td>\n",
       "    </tr>\n",
       "    <tr>\n",
       "      <th>Tiam2</th>\n",
       "      <td>18.0</td>\n",
       "      <td>yes</td>\n",
       "      <td>25.0</td>\n",
       "      <td>11.0</td>\n",
       "      <td>69.0</td>\n",
       "      <td>69.0</td>\n",
       "      <td>654.0</td>\n",
       "      <td>654.0</td>\n",
       "    </tr>\n",
       "    <tr>\n",
       "      <th>...</th>\n",
       "      <td>...</td>\n",
       "      <td>...</td>\n",
       "      <td>...</td>\n",
       "      <td>...</td>\n",
       "      <td>...</td>\n",
       "      <td>...</td>\n",
       "      <td>...</td>\n",
       "      <td>...</td>\n",
       "    </tr>\n",
       "    <tr>\n",
       "      <th>Cldn10</th>\n",
       "      <td>3857.0</td>\n",
       "      <td>yes</td>\n",
       "      <td>68.0</td>\n",
       "      <td>7646.0</td>\n",
       "      <td>1462.0</td>\n",
       "      <td>121799.0</td>\n",
       "      <td>59.0</td>\n",
       "      <td>59.0</td>\n",
       "    </tr>\n",
       "    <tr>\n",
       "      <th>Has3</th>\n",
       "      <td>4011.0</td>\n",
       "      <td>yes</td>\n",
       "      <td>35.0</td>\n",
       "      <td>7987.0</td>\n",
       "      <td>3271.0</td>\n",
       "      <td>26782.0</td>\n",
       "      <td>723.0</td>\n",
       "      <td>723.0</td>\n",
       "    </tr>\n",
       "    <tr>\n",
       "      <th>Npas2</th>\n",
       "      <td>4300.0</td>\n",
       "      <td>yes</td>\n",
       "      <td>147.0</td>\n",
       "      <td>8453.0</td>\n",
       "      <td>141.0</td>\n",
       "      <td>220013.0</td>\n",
       "      <td>1301.0</td>\n",
       "      <td>1301.0</td>\n",
       "    </tr>\n",
       "    <tr>\n",
       "      <th>Rgs9</th>\n",
       "      <td>4346.5</td>\n",
       "      <td>yes</td>\n",
       "      <td>37.0</td>\n",
       "      <td>8656.0</td>\n",
       "      <td>669.0</td>\n",
       "      <td>27978.0</td>\n",
       "      <td>118.0</td>\n",
       "      <td>118.0</td>\n",
       "    </tr>\n",
       "    <tr>\n",
       "      <th>Msx1</th>\n",
       "      <td>4902.5</td>\n",
       "      <td>yes</td>\n",
       "      <td>193.0</td>\n",
       "      <td>9612.0</td>\n",
       "      <td>71.0</td>\n",
       "      <td>1127.0</td>\n",
       "      <td>271.0</td>\n",
       "      <td>271.0</td>\n",
       "    </tr>\n",
       "  </tbody>\n",
       "</table>\n",
       "<p>171 rows × 8 columns</p>\n",
       "</div>"
      ],
      "text/plain": [
       "         average_rank has_motif  rank_gene_to_TFmotif  rank_gene_to_TFgene  \\\n",
       "Slc16a6          10.0       yes                   2.0                 18.0   \n",
       "Lef1             10.5       yes                  20.0                  1.0   \n",
       "Psd3             14.0       yes                  26.0                  2.0   \n",
       "Tle4             17.5       yes                  31.0                  4.0   \n",
       "Tiam2            18.0       yes                  25.0                 11.0   \n",
       "...               ...       ...                   ...                  ...   \n",
       "Cldn10         3857.0       yes                  68.0               7646.0   \n",
       "Has3           4011.0       yes                  35.0               7987.0   \n",
       "Npas2          4300.0       yes                 147.0               8453.0   \n",
       "Rgs9           4346.5       yes                  37.0               8656.0   \n",
       "Msx1           4902.5       yes                 193.0               9612.0   \n",
       "\n",
       "         rank_peak_to_TFmotif  rank_peak2_to_TFmotif  rank_peak_to_gene  \\\n",
       "Slc16a6                2364.0                13824.0              917.0   \n",
       "Lef1                    121.0                 2150.0              803.0   \n",
       "Psd3                    181.0                 3591.0              522.0   \n",
       "Tle4                      2.0                    2.0               26.0   \n",
       "Tiam2                    69.0                   69.0              654.0   \n",
       "...                       ...                    ...                ...   \n",
       "Cldn10                 1462.0               121799.0               59.0   \n",
       "Has3                   3271.0                26782.0              723.0   \n",
       "Npas2                   141.0               220013.0             1301.0   \n",
       "Rgs9                    669.0                27978.0              118.0   \n",
       "Msx1                     71.0                 1127.0              271.0   \n",
       "\n",
       "         rank_peak2_to_gene  \n",
       "Slc16a6               917.0  \n",
       "Lef1                  803.0  \n",
       "Psd3                  522.0  \n",
       "Tle4                   26.0  \n",
       "Tiam2                 654.0  \n",
       "...                     ...  \n",
       "Cldn10                 59.0  \n",
       "Has3                  723.0  \n",
       "Npas2                1301.0  \n",
       "Rgs9                  118.0  \n",
       "Msx1                  271.0  \n",
       "\n",
       "[171 rows x 8 columns]"
      ]
     },
     "execution_count": 25,
     "metadata": {},
     "output_type": "execute_result"
    }
   ],
   "source": [
    "dict_tf_targets['M_ENSMUSG00000027985_LINE1723_Lef1_D']"
   ]
  },
  {
   "cell_type": "code",
   "execution_count": 26,
   "metadata": {},
   "outputs": [
    {
     "data": {
      "text/html": [
       "<div>\n",
       "<style scoped>\n",
       "    .dataframe tbody tr th:only-of-type {\n",
       "        vertical-align: middle;\n",
       "    }\n",
       "\n",
       "    .dataframe tbody tr th {\n",
       "        vertical-align: top;\n",
       "    }\n",
       "\n",
       "    .dataframe thead th {\n",
       "        text-align: right;\n",
       "    }\n",
       "</style>\n",
       "<table border=\"1\" class=\"dataframe\">\n",
       "  <thead>\n",
       "    <tr style=\"text-align: right;\">\n",
       "      <th></th>\n",
       "      <th>average_rank</th>\n",
       "      <th>has_motif</th>\n",
       "      <th>rank_gene_to_TFmotif</th>\n",
       "      <th>rank_gene_to_TFgene</th>\n",
       "      <th>rank_peak_to_TFmotif</th>\n",
       "      <th>rank_peak2_to_TFmotif</th>\n",
       "      <th>rank_peak_to_gene</th>\n",
       "      <th>rank_peak2_to_gene</th>\n",
       "    </tr>\n",
       "  </thead>\n",
       "  <tbody>\n",
       "    <tr>\n",
       "      <th>Cybrd1</th>\n",
       "      <td>43.5</td>\n",
       "      <td>yes</td>\n",
       "      <td>66.0</td>\n",
       "      <td>21.0</td>\n",
       "      <td>341.0</td>\n",
       "      <td>341.0</td>\n",
       "      <td>1228.0</td>\n",
       "      <td>1228.0</td>\n",
       "    </tr>\n",
       "    <tr>\n",
       "      <th>Tiam2</th>\n",
       "      <td>47.0</td>\n",
       "      <td>yes</td>\n",
       "      <td>87.0</td>\n",
       "      <td>7.0</td>\n",
       "      <td>3496.0</td>\n",
       "      <td>5221.0</td>\n",
       "      <td>654.0</td>\n",
       "      <td>654.0</td>\n",
       "    </tr>\n",
       "    <tr>\n",
       "      <th>Sema4c</th>\n",
       "      <td>64.5</td>\n",
       "      <td>yes</td>\n",
       "      <td>35.0</td>\n",
       "      <td>94.0</td>\n",
       "      <td>79.0</td>\n",
       "      <td>72730.0</td>\n",
       "      <td>102.0</td>\n",
       "      <td>102.0</td>\n",
       "    </tr>\n",
       "    <tr>\n",
       "      <th>Ammecr1</th>\n",
       "      <td>65.5</td>\n",
       "      <td>yes</td>\n",
       "      <td>57.0</td>\n",
       "      <td>74.0</td>\n",
       "      <td>1777.0</td>\n",
       "      <td>2668.0</td>\n",
       "      <td>760.0</td>\n",
       "      <td>760.0</td>\n",
       "    </tr>\n",
       "    <tr>\n",
       "      <th>Pim1</th>\n",
       "      <td>66.0</td>\n",
       "      <td>yes</td>\n",
       "      <td>108.0</td>\n",
       "      <td>24.0</td>\n",
       "      <td>682.0</td>\n",
       "      <td>43191.0</td>\n",
       "      <td>4908.0</td>\n",
       "      <td>4908.0</td>\n",
       "    </tr>\n",
       "    <tr>\n",
       "      <th>...</th>\n",
       "      <td>...</td>\n",
       "      <td>...</td>\n",
       "      <td>...</td>\n",
       "      <td>...</td>\n",
       "      <td>...</td>\n",
       "      <td>...</td>\n",
       "      <td>...</td>\n",
       "      <td>...</td>\n",
       "    </tr>\n",
       "    <tr>\n",
       "      <th>Dapl1</th>\n",
       "      <td>3125.5</td>\n",
       "      <td>yes</td>\n",
       "      <td>19.0</td>\n",
       "      <td>6232.0</td>\n",
       "      <td>359.0</td>\n",
       "      <td>359.0</td>\n",
       "      <td>227.0</td>\n",
       "      <td>227.0</td>\n",
       "    </tr>\n",
       "    <tr>\n",
       "      <th>Vipr1</th>\n",
       "      <td>3335.5</td>\n",
       "      <td>yes</td>\n",
       "      <td>20.0</td>\n",
       "      <td>6651.0</td>\n",
       "      <td>975.0</td>\n",
       "      <td>18759.0</td>\n",
       "      <td>825.0</td>\n",
       "      <td>825.0</td>\n",
       "    </tr>\n",
       "    <tr>\n",
       "      <th>Myo5c</th>\n",
       "      <td>3809.5</td>\n",
       "      <td>yes</td>\n",
       "      <td>84.0</td>\n",
       "      <td>7535.0</td>\n",
       "      <td>807.0</td>\n",
       "      <td>807.0</td>\n",
       "      <td>19.0</td>\n",
       "      <td>19.0</td>\n",
       "    </tr>\n",
       "    <tr>\n",
       "      <th>Krt81</th>\n",
       "      <td>3872.0</td>\n",
       "      <td>yes</td>\n",
       "      <td>7.0</td>\n",
       "      <td>7737.0</td>\n",
       "      <td>7.0</td>\n",
       "      <td>38.0</td>\n",
       "      <td>3.0</td>\n",
       "      <td>3.0</td>\n",
       "    </tr>\n",
       "    <tr>\n",
       "      <th>Hspb8</th>\n",
       "      <td>4655.5</td>\n",
       "      <td>yes</td>\n",
       "      <td>40.0</td>\n",
       "      <td>9271.0</td>\n",
       "      <td>909.0</td>\n",
       "      <td>19478.0</td>\n",
       "      <td>1383.0</td>\n",
       "      <td>1383.0</td>\n",
       "    </tr>\n",
       "  </tbody>\n",
       "</table>\n",
       "<p>133 rows × 8 columns</p>\n",
       "</div>"
      ],
      "text/plain": [
       "         average_rank has_motif  rank_gene_to_TFmotif  rank_gene_to_TFgene  \\\n",
       "Cybrd1           43.5       yes                  66.0                 21.0   \n",
       "Tiam2            47.0       yes                  87.0                  7.0   \n",
       "Sema4c           64.5       yes                  35.0                 94.0   \n",
       "Ammecr1          65.5       yes                  57.0                 74.0   \n",
       "Pim1             66.0       yes                 108.0                 24.0   \n",
       "...               ...       ...                   ...                  ...   \n",
       "Dapl1          3125.5       yes                  19.0               6232.0   \n",
       "Vipr1          3335.5       yes                  20.0               6651.0   \n",
       "Myo5c          3809.5       yes                  84.0               7535.0   \n",
       "Krt81          3872.0       yes                   7.0               7737.0   \n",
       "Hspb8          4655.5       yes                  40.0               9271.0   \n",
       "\n",
       "         rank_peak_to_TFmotif  rank_peak2_to_TFmotif  rank_peak_to_gene  \\\n",
       "Cybrd1                  341.0                  341.0             1228.0   \n",
       "Tiam2                  3496.0                 5221.0              654.0   \n",
       "Sema4c                   79.0                72730.0              102.0   \n",
       "Ammecr1                1777.0                 2668.0              760.0   \n",
       "Pim1                    682.0                43191.0             4908.0   \n",
       "...                       ...                    ...                ...   \n",
       "Dapl1                   359.0                  359.0              227.0   \n",
       "Vipr1                   975.0                18759.0              825.0   \n",
       "Myo5c                   807.0                  807.0               19.0   \n",
       "Krt81                     7.0                   38.0                3.0   \n",
       "Hspb8                   909.0                19478.0             1383.0   \n",
       "\n",
       "         rank_peak2_to_gene  \n",
       "Cybrd1               1228.0  \n",
       "Tiam2                 654.0  \n",
       "Sema4c                102.0  \n",
       "Ammecr1               760.0  \n",
       "Pim1                 4908.0  \n",
       "...                     ...  \n",
       "Dapl1                 227.0  \n",
       "Vipr1                 825.0  \n",
       "Myo5c                  19.0  \n",
       "Krt81                   3.0  \n",
       "Hspb8                1383.0  \n",
       "\n",
       "[133 rows x 8 columns]"
      ]
     },
     "execution_count": 26,
     "metadata": {},
     "output_type": "execute_result"
    }
   ],
   "source": [
    "dict_tf_targets['M_ENSMUSG00000001655_LINE1151_Hoxc13_D']"
   ]
  },
  {
   "cell_type": "code",
   "execution_count": null,
   "metadata": {},
   "outputs": [],
   "source": []
  },
  {
   "cell_type": "markdown",
   "metadata": {},
   "source": [
    "save results"
   ]
  },
  {
   "cell_type": "code",
   "execution_count": 27,
   "metadata": {},
   "outputs": [],
   "source": [
    "adata_CP.write(os.path.join(workdir,'adata_CP.h5ad'))"
   ]
  },
  {
   "cell_type": "code",
   "execution_count": 28,
   "metadata": {},
   "outputs": [],
   "source": [
    "import pickle\n",
    "with open('./result_multiome_shareseq/dict_tf_targets.pickle', 'wb') as handle:\n",
    "    pickle.dump(dict_tf_targets, handle, protocol=pickle.HIGHEST_PROTOCOL)"
   ]
  },
  {
   "cell_type": "markdown",
   "metadata": {},
   "source": [
    "Read back pickle file\n",
    "```python\n",
    "with open('./result_multiome_shareseq/dict_tf_targets.pickle', 'rb') as handle:\n",
    "    dict_tf_targets = pickle.load(handle)\n",
    "```"
   ]
  },
  {
   "cell_type": "code",
   "execution_count": null,
   "metadata": {},
   "outputs": [],
   "source": []
  }
 ],
 "metadata": {
  "kernelspec": {
   "display_name": "Python [conda env:hc_simba]",
   "language": "python",
   "name": "conda-env-hc_simba-py"
  },
  "language_info": {
   "codemirror_mode": {
    "name": "ipython",
    "version": 3
   },
   "file_extension": ".py",
   "mimetype": "text/x-python",
   "name": "python",
   "nbconvert_exporter": "python",
   "pygments_lexer": "ipython3",
   "version": "3.7.10"
  }
 },
 "nbformat": 4,
 "nbformat_minor": 4
}
